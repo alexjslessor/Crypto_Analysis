{
 "cells": [
  {
   "cell_type": "code",
   "execution_count": 2,
   "metadata": {},
   "outputs": [],
   "source": [
    "import pandas as pd\n",
    "import matplotlib.pyplot as plt\n",
    "import seaborn as sns\n",
    "import numpy as np\n",
    "sns.set()"
   ]
  },
  {
   "cell_type": "code",
   "execution_count": 5,
   "metadata": {},
   "outputs": [],
   "source": [
    "btc = pd.read_csv('bitcoin_price.csv', parse_dates=True, index_col='Date')\n",
    "bitcash = pd.read_csv('bitcoin_cash_price.csv', parse_dates=True, index_col='Date')\n",
    "bitconnect = pd.read_csv('bitconnect_price.csv', parse_dates=True, index_col='Date')\n",
    "dash = pd.read_csv('dash_price.csv', parse_dates=True, index_col='Date')\n",
    "ethclassic = pd.read_csv('ethereum_classic_price.csv', parse_dates=True, index_col='Date')\n",
    "eth = pd.read_csv('ethereum_price.csv', parse_dates=True, index_col)\n",
    "iota = pd.read_csv('iota_price.csv')\n",
    "lite = pd.read_csv('litecoin_price.csv')\n",
    "mone = pd.read_csv('monero_price.csv')\n",
    "nem = pd.read_csv('nem_price.csv')\n",
    "neo = pd.read_csv('neo_price.csv')\n",
    "num = pd.read_csv('numeraire_price.csv')\n",
    "omis = pd.read_csv('omisego_price.csv')\n",
    "qtum = pd.read_csv('qtum_price.csv')\n",
    "rip = pd.read_csv('ripple_price.csv')\n",
    "strat = pd.read_csv('stratis_price.csv')\n",
    "wave = pd.read_csv('waves_price.csv')"
   ]
  },
  {
   "cell_type": "code",
   "execution_count": 8,
   "metadata": {},
   "outputs": [
    {
     "name": "stdout",
     "output_type": "stream",
     "text": [
      "<class 'pandas.core.frame.DataFrame'>\n",
      "RangeIndex: 292 entries, 0 to 291\n",
      "Data columns (total 7 columns):\n",
      "Date          292 non-null object\n",
      "Open          292 non-null float64\n",
      "High          292 non-null float64\n",
      "Low           292 non-null float64\n",
      "Close         292 non-null float64\n",
      "Volume        292 non-null object\n",
      "Market Cap    292 non-null object\n",
      "dtypes: float64(4), object(3)\n",
      "memory usage: 16.0+ KB\n"
     ]
    }
   ],
   "source": [
    "bitconnect.info()"
   ]
  },
  {
   "cell_type": "code",
   "execution_count": null,
   "metadata": {},
   "outputs": [],
   "source": [
    "for date in zip(btc, bitcash, bitconnect, dash, ethclassic, eth, iota, lite, mone, nem, neo, num, omis, qtum, rip, strat, wave):\n",
    "\n",
    "        "
   ]
  },
  {
   "cell_type": "code",
   "execution_count": null,
   "metadata": {},
   "outputs": [],
   "source": []
  },
  {
   "cell_type": "code",
   "execution_count": null,
   "metadata": {},
   "outputs": [],
   "source": []
  },
  {
   "cell_type": "code",
   "execution_count": null,
   "metadata": {},
   "outputs": [],
   "source": []
  },
  {
   "cell_type": "code",
   "execution_count": null,
   "metadata": {},
   "outputs": [],
   "source": []
  },
  {
   "cell_type": "code",
   "execution_count": null,
   "metadata": {},
   "outputs": [],
   "source": []
  },
  {
   "cell_type": "code",
   "execution_count": null,
   "metadata": {},
   "outputs": [],
   "source": []
  },
  {
   "cell_type": "code",
   "execution_count": null,
   "metadata": {},
   "outputs": [],
   "source": []
  }
 ],
 "metadata": {
  "kernelspec": {
   "display_name": "Python 3",
   "language": "python",
   "name": "python3"
  },
  "language_info": {
   "codemirror_mode": {
    "name": "ipython",
    "version": 3
   },
   "file_extension": ".py",
   "mimetype": "text/x-python",
   "name": "python",
   "nbconvert_exporter": "python",
   "pygments_lexer": "ipython3",
   "version": "3.6.3"
  }
 },
 "nbformat": 4,
 "nbformat_minor": 2
}
